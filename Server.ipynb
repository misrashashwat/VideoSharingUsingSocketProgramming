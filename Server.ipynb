{
 "cells": [
  {
   "cell_type": "code",
   "execution_count": null,
   "id": "c4a4fdbb",
   "metadata": {},
   "outputs": [],
   "source": [
    "import cv2\n",
    "import socket\n",
    "import pickle\n",
    "import numpy\n",
    "cap= cv2.VideoCapture('http://192.168.228.76:8080/video')\n",
    "s=socket.socket()\n",
    "serip=\"\"\n",
    "serport=2222\n",
    "s.bind((serip,serport))\n",
    "s.listen()\n",
    "c,addr=s.accept()\n",
    "while True:\n",
    "    ret,frame1=cap.read()\n",
    "    data=c.recv(999999)\n",
    "    c.send(pickle.dumps(frame1))\n",
    "    frame= pickle.loads(data)\n",
    "    cv2.imshow(\"Client\",frame)\n",
    "    if cv2.waitKey(10)==13:\n",
    "        break\n",
    "   \n",
    "    \n",
    "\n",
    "cv2.destroyAllWindows()\n",
    "    "
   ]
  },
  {
   "cell_type": "code",
   "execution_count": null,
   "id": "800f0837",
   "metadata": {},
   "outputs": [],
   "source": []
  },
  {
   "cell_type": "code",
   "execution_count": null,
   "id": "61e71eb8",
   "metadata": {},
   "outputs": [],
   "source": []
  },
  {
   "cell_type": "code",
   "execution_count": null,
   "id": "e817d2aa",
   "metadata": {},
   "outputs": [],
   "source": []
  },
  {
   "cell_type": "code",
   "execution_count": null,
   "id": "0ce0e953",
   "metadata": {},
   "outputs": [],
   "source": []
  }
 ],
 "metadata": {
  "kernelspec": {
   "display_name": "Python 3",
   "language": "python",
   "name": "python3"
  },
  "language_info": {
   "codemirror_mode": {
    "name": "ipython",
    "version": 3
   },
   "file_extension": ".py",
   "mimetype": "text/x-python",
   "name": "python",
   "nbconvert_exporter": "python",
   "pygments_lexer": "ipython3",
   "version": "3.8.8"
  }
 },
 "nbformat": 4,
 "nbformat_minor": 5
}
