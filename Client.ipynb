{
 "cells": [
  {
   "cell_type": "code",
   "execution_count": null,
   "id": "fbf207ae",
   "metadata": {},
   "outputs": [],
   "source": [
    "import cv2\n",
    "import pickle\n",
    "import sys\n",
    "import numpy\n",
    "import socket\n",
    "cap= cv2.VideoCapture(0)\n",
    "s=socket.socket()\n",
    "serip=\"\"\n",
    "serport=2222\n",
    "s.connect((serip,serport))\n",
    "while True:\n",
    "    ret,frame=cap.read()\n",
    "    s.send(pickle.dumps(frame))\n",
    "    data=s.recv(999999)\n",
    "    frame1 = pickle.loads(data)\n",
    "    cv2.imshow(\"Server\",frame1)\n",
    "    if cv2.waitKey(10)==13:\n",
    "        break\n",
    "        \n",
    "cv2.destroyAllWindows()"
   ]
  },
  {
   "cell_type": "code",
   "execution_count": null,
   "id": "6070e6c0",
   "metadata": {},
   "outputs": [],
   "source": []
  },
  {
   "cell_type": "code",
   "execution_count": null,
   "id": "d09bae8b",
   "metadata": {},
   "outputs": [],
   "source": []
  },
  {
   "cell_type": "code",
   "execution_count": null,
   "id": "a9ed0c1e",
   "metadata": {},
   "outputs": [],
   "source": []
  }
 ],
 "metadata": {
  "kernelspec": {
   "display_name": "Python 3",
   "language": "python",
   "name": "python3"
  },
  "language_info": {
   "codemirror_mode": {
    "name": "ipython",
    "version": 3
   },
   "file_extension": ".py",
   "mimetype": "text/x-python",
   "name": "python",
   "nbconvert_exporter": "python",
   "pygments_lexer": "ipython3",
   "version": "3.8.8"
  }
 },
 "nbformat": 4,
 "nbformat_minor": 5
}
